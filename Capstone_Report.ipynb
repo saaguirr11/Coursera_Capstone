{
 "cells": [
  {
   "cell_type": "markdown",
   "metadata": {},
   "source": [
    "# Data Science Capstone - Predicting Car Accident Severity\n",
    "**Sergio Aguirre**\n",
    "***"
   ]
  },
  {
   "cell_type": "markdown",
   "metadata": {},
   "source": [
    "## **Introduction - Business Problem**"
   ]
  },
  {
   "cell_type": "markdown",
   "metadata": {},
   "source": [
    "Daily we are faced with making decisions that, however simple they may seem, can change our lives. One of these decisions is which route to take to reach a specific destination.\n",
    "Generally, the optimization and decision go through which route is shorter, will take less time or is less congested, but what about security?.\n",
    "\n",
    "The goal of this work is to analyze data in order to provide a model that will predict the severity of an accident, given a number of features that will be extracted from the car collision data from Seattle. The model will classify and predict severity, so a driver can use this model through a third-party or government app to change course or drive more carefully, given that he is not wanting to get involved into an accident.\n",
    "\n",
    "This project will use Machine Learning to build models to predict the severity of the car accidents according to the external factors in the car collision data of the city of Seattle. This model can be applied to multiple practical conditions, such as route planning, signals placement or road improvements. This model can be methodologically extrapolated to other cities anywhere in the world that have similar data collection systems.\n",
    "\n",
    "This project is aimed at government agencies and private companies that want to optimize their route planning and prevent accidents."
   ]
  },
  {
   "cell_type": "markdown",
   "metadata": {},
   "source": [
    "## Data"
   ]
  },
  {
   "cell_type": "markdown",
   "metadata": {},
   "source": [
    "The car collision data that will be used comes from the Seattle Department of Transportation, which records the information related to traffic accidents and the associated factors. This dataset includes a severity indicator (SEVERITYCODE) for each traffic accident where the values are 1 for minors and 2 for severe accidents. \n",
    "It also includes external information associated with accidents that is of direct utility for the study, such as weather, road and lighting conditions. Obviously crucial information about the date and time of occurrence, as well as internal factors such as the influence of alcohol (UNDERINFL), speeding (SPEEDING) or inattention that allow us to rule out certain accidents from our data that do not have to do purely with external factors. For a complete description of each parameter, consult the metadata included in the repository.\n",
    "\n",
    "The data looks like the following:"
   ]
  },
  {
   "cell_type": "markdown",
   "metadata": {},
   "source": [
    "![](Images/Dataframe1.png?raw=true \"\")"
   ]
  },
  {
   "cell_type": "markdown",
   "metadata": {},
   "source": [
    "The focus of the project relies on external variables that are not in the driver's control to predict the severity of the accident. Therefore, when reviewing the different columns of the data, it is possible to eliminate some that are not of our interest, these are:"
   ]
  },
  {
   "cell_type": "markdown",
   "metadata": {},
   "source": [
    "|COLUMN NAMES\t|REASON FOR DROPING \t| \n",
    "|:-:\t|:-:\t|\n",
    "|OBJECTID, STATUS, REPORTNO,<br> EXCEPTRSNCODE, EXCEPTRSNDESC \t| These are mostly identification codes for each particular accident<br> and do not add valuable information.|\n",
    "| INCKEY, INTKEY, CROSSWALKKEY, SEGLANEKEY \t|  These are identification codes for intersections, pedestrian crossing and lane that <br> will be considered included in the location information and coordinates provided.\t| \n",
    "|COLDETKEY, SDOTCOLNUM, SDOT_COLDESC,<br> ST_COLDESC, SDOT_COLCODE, ST_COLCODE \t| These are specific codes for types of accidents, which will not be used since <br>we want to predict the severity without knowing the type of accident.\t| \n",
    "|PERSONCOUNT, PEDCOUNT, PEDCYLCOUNT,<br> VEHCOUNT,PEDROWNOTGRNT, HITPARKEDCAR  \t| These columns correspond to the number of people, vehicles and others <br>associated with each accident. Again, as we will not have this type of<br> information as input, since we are located before an accident, these will not be used. \t| \n",
    "|SEVERITYCODE.1, INCDATE, SEVERITYDESC,<br> JUNCTIONTYPE, LOCATION| The information in these columns is contained in others. <br>This is SEVERITYCODE.1 and SEVERITYDESC in SEVERITYCODE, <br>INCDATE in INCDTTM, JUNCTIONTYPE in ADDRTYPE <br>and LOCATION in X,Y Coordinates.\n",
    "\t| \n",
    "\n",
    "\n"
   ]
  },
  {
   "cell_type": "markdown",
   "metadata": {},
   "source": [
    "After droping the columns the data looks like the following:"
   ]
  },
  {
   "cell_type": "markdown",
   "metadata": {},
   "source": [
    "![](Images/Dataframe2.png?raw=true \"\")"
   ]
  }
 ],
 "metadata": {
  "kernelspec": {
   "display_name": "Python 3",
   "language": "python",
   "name": "python3"
  },
  "language_info": {
   "codemirror_mode": {
    "name": "ipython",
    "version": 3
   },
   "file_extension": ".py",
   "mimetype": "text/x-python",
   "name": "python",
   "nbconvert_exporter": "python",
   "pygments_lexer": "ipython3",
   "version": "3.8.3"
  }
 },
 "nbformat": 4,
 "nbformat_minor": 4
}
